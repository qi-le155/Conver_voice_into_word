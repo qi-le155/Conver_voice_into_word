{
 "cells": [
  {
   "cell_type": "code",
   "execution_count": null,
   "id": "922dcd2f-446f-4457-b508-1b19253c6c43",
   "metadata": {
    "scrolled": true
   },
   "outputs": [],
   "source": [
    "import whisper\n",
    "from docx import Document\n",
    "from tkinter import Tk, filedialog\n",
    "\n",
    "# Set the moudle（For Chinese conver, suggest using the 'medium' or 'large'）\n",
    "model = whisper.load_model(\"medium\")  # Also the  \"large\" is suggested\n",
    "\n",
    "# Input the voice document（Support for mp3/wav/mp4 etc）\n",
    "result = model.transcribe(\"D:\\桌面\\新录音.wav\", language='zh')\n",
    "\n",
    "# Step 3: Create a Word document\n",
    "doc = Document()\n",
    "doc.add_heading(\"Converting result\", level=1)\n",
    "\n",
    "# Optional: add timestamps for better readability\n",
    "for segment in result['segments']:\n",
    "    start = round(segment['start'], 2)\n",
    "    end = round(segment['end'], 2)\n",
    "    text = segment['text']\n",
    "    doc.add_paragraph(f\"[{start}s - {end}s] {text}\")\n",
    "\n",
    "# Use Save As dialog\n",
    "root = Tk()\n",
    "root.withdraw()  # Hide the main tkinter window\n",
    "file_path = filedialog.asksaveasfilename(\n",
    "    defaultextension=\".docx\",\n",
    "    filetypes=[(\"Word Documents\", \"*.docx\")],\n",
    "    title=\"Save the result as a word\"\n",
    ")\n",
    "\n",
    "if file_path:\n",
    "    doc.save(file_path)\n",
    "    print(f\"Woed file has saved: {file_path}\")\n",
    "else:\n",
    "    print(\"Save is unsuccess\")"
   ]
  },
  {
   "cell_type": "code",
   "execution_count": null,
   "id": "46d36715-209d-4e37-99db-8e3cce2853e2",
   "metadata": {},
   "outputs": [],
   "source": []
  }
 ],
 "metadata": {
  "kernelspec": {
   "display_name": "Python [conda env:base] *",
   "language": "python",
   "name": "conda-base-py"
  },
  "language_info": {
   "codemirror_mode": {
    "name": "ipython",
    "version": 3
   },
   "file_extension": ".py",
   "mimetype": "text/x-python",
   "name": "python",
   "nbconvert_exporter": "python",
   "pygments_lexer": "ipython3",
   "version": "3.9.21"
  }
 },
 "nbformat": 4,
 "nbformat_minor": 5
}
